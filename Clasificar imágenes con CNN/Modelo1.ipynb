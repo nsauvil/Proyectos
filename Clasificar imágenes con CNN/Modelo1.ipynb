{
  "nbformat": 4,
  "nbformat_minor": 0,
  "metadata": {
    "colab": {
      "provenance": [],
      "gpuType": "T4"
    },
    "kernelspec": {
      "name": "python3",
      "display_name": "Python 3"
    },
    "language_info": {
      "name": "python"
    },
    "accelerator": "GPU"
  },
  "cells": [
    {
      "cell_type": "code",
      "execution_count": 1,
      "metadata": {
        "id": "6xfA5nmO35L5"
      },
      "outputs": [],
      "source": [
        "import numpy as np\n",
        "from matplotlib import pyplot as plt\n",
        "from tensorflow import keras\n",
        "from keras.models import Sequential\n",
        "from keras.layers import Conv2D, MaxPooling2D, Flatten, Dense\n",
        "import cv2\n",
        "import os\n",
        "#from sklearn import utils\n",
        "import json\n",
        "from tensorflow.keras.callbacks import EarlyStopping"
      ]
    },
    {
      "cell_type": "code",
      "source": [
        "# Cargamos los tensores y otros datos necesarios para el modelo\n",
        "X_train = np.load('/content/drive/MyDrive/Colab Notebooks/X_train.npy')\n",
        "#X_test = np.load('/content/drive/MyDrive/Colab Notebooks/X_test.npy')\n",
        "y_train = np.load('/content/drive/MyDrive/Colab Notebooks/y_train.npy')\n",
        "#y_test = np.load('/content/drive/MyDrive/Colab Notebooks/y_test.npy')\n",
        "target_names = [\"buildings\", \"forest\", \"glacier\", \"mountain\", \"sea\", \"street\"]\n",
        "num_targets = len(target_names)"
      ],
      "metadata": {
        "id": "xLclUMFI5OSA"
      },
      "execution_count": 3,
      "outputs": []
    },
    {
      "cell_type": "code",
      "source": [
        "# PRIMER MODELO:\n",
        "# CNN base\n",
        "\n",
        "# Modelo base basado en redes neuronales convolucionales: la arquitectura CNN de este modelo es libre,\n",
        "# pero al menos debe tener una capa convolucional y una capa pooling (de libre elección el tipo de pooling)\n",
        "# antes de la capa densa de salida\n",
        "\n",
        "model1 = Sequential([\n",
        "    Conv2D(32, (3, 3), activation='relu', input_shape=(150,150,3)), #32 filtros. kernel 3x3.\n",
        "    MaxPooling2D((2, 2)),\n",
        "    Flatten(),\n",
        "    Dense(128, activation='relu'),\n",
        "    Dense(num_targets, activation='softmax')\n",
        "])"
      ],
      "metadata": {
        "id": "KXqipdHA6CDO",
        "colab": {
          "base_uri": "https://localhost:8080/"
        },
        "outputId": "a1391c49-525f-4c4b-c423-0e43cf7a8a0b"
      },
      "execution_count": 4,
      "outputs": [
        {
          "output_type": "stream",
          "name": "stderr",
          "text": [
            "/usr/local/lib/python3.11/dist-packages/keras/src/layers/convolutional/base_conv.py:107: UserWarning: Do not pass an `input_shape`/`input_dim` argument to a layer. When using Sequential models, prefer using an `Input(shape)` object as the first layer in the model instead.\n",
            "  super().__init__(activity_regularizer=activity_regularizer, **kwargs)\n"
          ]
        }
      ]
    },
    {
      "cell_type": "code",
      "source": [
        "%%time\n",
        "\n",
        "model1.compile(optimizer='adam',\n",
        "                 loss='sparse_categorical_crossentropy',\n",
        "                 metrics=['accuracy'])\n",
        "\n",
        "early_stopping = EarlyStopping(monitor='val_accuracy', patience=3) # Si no se produce una mejoría en accuracy durante 3 etapas, se detiene\n",
        "\n",
        "hist_model1 = model1.fit(X_train, y_train,\n",
        "                  batch_size = 32,\n",
        "                  epochs = 15,\n",
        "                  validation_split = 0.20,\n",
        "                  callbacks  = [early_stopping])"
      ],
      "metadata": {
        "id": "olLivrKd6Gnc",
        "colab": {
          "base_uri": "https://localhost:8080/"
        },
        "outputId": "f8417882-a68d-4156-8afa-12f8c3d6fac9"
      },
      "execution_count": 5,
      "outputs": [
        {
          "output_type": "stream",
          "name": "stdout",
          "text": [
            "Epoch 1/15\n",
            "\u001b[1m111/111\u001b[0m \u001b[32m━━━━━━━━━━━━━━━━━━━━\u001b[0m\u001b[37m\u001b[0m \u001b[1m12s\u001b[0m 61ms/step - accuracy: 0.3907 - loss: 4.9361 - val_accuracy: 0.6821 - val_loss: 0.9191\n",
            "Epoch 2/15\n",
            "\u001b[1m111/111\u001b[0m \u001b[32m━━━━━━━━━━━━━━━━━━━━\u001b[0m\u001b[37m\u001b[0m \u001b[1m3s\u001b[0m 22ms/step - accuracy: 0.7455 - loss: 0.7045 - val_accuracy: 0.6685 - val_loss: 0.9014\n",
            "Epoch 3/15\n",
            "\u001b[1m111/111\u001b[0m \u001b[32m━━━━━━━━━━━━━━━━━━━━\u001b[0m\u001b[37m\u001b[0m \u001b[1m3s\u001b[0m 21ms/step - accuracy: 0.8734 - loss: 0.4192 - val_accuracy: 0.6933 - val_loss: 0.8938\n",
            "Epoch 4/15\n",
            "\u001b[1m111/111\u001b[0m \u001b[32m━━━━━━━━━━━━━━━━━━━━\u001b[0m\u001b[37m\u001b[0m \u001b[1m2s\u001b[0m 20ms/step - accuracy: 0.9610 - loss: 0.1870 - val_accuracy: 0.6911 - val_loss: 0.9184\n",
            "Epoch 5/15\n",
            "\u001b[1m111/111\u001b[0m \u001b[32m━━━━━━━━━━━━━━━━━━━━\u001b[0m\u001b[37m\u001b[0m \u001b[1m2s\u001b[0m 21ms/step - accuracy: 0.9788 - loss: 0.1284 - val_accuracy: 0.6911 - val_loss: 1.0485\n",
            "Epoch 6/15\n",
            "\u001b[1m111/111\u001b[0m \u001b[32m━━━━━━━━━━━━━━━━━━━━\u001b[0m\u001b[37m\u001b[0m \u001b[1m2s\u001b[0m 21ms/step - accuracy: 0.9905 - loss: 0.0583 - val_accuracy: 0.7249 - val_loss: 1.0339\n",
            "Epoch 7/15\n",
            "\u001b[1m111/111\u001b[0m \u001b[32m━━━━━━━━━━━━━━━━━━━━\u001b[0m\u001b[37m\u001b[0m \u001b[1m3s\u001b[0m 21ms/step - accuracy: 0.9968 - loss: 0.0275 - val_accuracy: 0.7035 - val_loss: 1.1659\n",
            "Epoch 8/15\n",
            "\u001b[1m111/111\u001b[0m \u001b[32m━━━━━━━━━━━━━━━━━━━━\u001b[0m\u001b[37m\u001b[0m \u001b[1m2s\u001b[0m 22ms/step - accuracy: 0.9967 - loss: 0.0222 - val_accuracy: 0.7193 - val_loss: 1.0990\n",
            "Epoch 9/15\n",
            "\u001b[1m111/111\u001b[0m \u001b[32m━━━━━━━━━━━━━━━━━━━━\u001b[0m\u001b[37m\u001b[0m \u001b[1m2s\u001b[0m 20ms/step - accuracy: 0.9995 - loss: 0.0095 - val_accuracy: 0.7046 - val_loss: 1.1527\n",
            "CPU times: user 19.1 s, sys: 7.19 s, total: 26.3 s\n",
            "Wall time: 36.4 s\n"
          ]
        }
      ]
    },
    {
      "cell_type": "code",
      "source": [
        "model1.save('/content/drive/MyDrive/Colab Notebooks/model1.h5')\n",
        "with open('/content/drive/MyDrive/Colab Notebooks/hist_model1.json', 'w') as f:\n",
        "    json.dump(hist_model1.history, f)"
      ],
      "metadata": {
        "colab": {
          "base_uri": "https://localhost:8080/"
        },
        "id": "rNDbLyh2C9YN",
        "outputId": "7d5c947a-ab6b-403b-c4b1-88098047b7a1"
      },
      "execution_count": 6,
      "outputs": [
        {
          "output_type": "stream",
          "name": "stderr",
          "text": [
            "WARNING:absl:You are saving your model as an HDF5 file via `model.save()` or `keras.saving.save_model(model)`. This file format is considered legacy. We recommend using instead the native Keras format, e.g. `model.save('my_model.keras')` or `keras.saving.save_model(model, 'my_model.keras')`. \n"
          ]
        }
      ]
    }
  ]
}