{
  "nbformat": 4,
  "nbformat_minor": 0,
  "metadata": {
    "colab": {
      "provenance": [],
      "gpuType": "T4"
    },
    "kernelspec": {
      "name": "python3",
      "display_name": "Python 3"
    },
    "language_info": {
      "name": "python"
    },
    "accelerator": "GPU"
  },
  "cells": [
    {
      "cell_type": "code",
      "execution_count": 1,
      "metadata": {
        "id": "FJfcht_vGD5Z"
      },
      "outputs": [],
      "source": [
        "import numpy as np\n",
        "from matplotlib import pyplot as plt\n",
        "from tensorflow import keras\n",
        "#import cv2\n",
        "import os\n",
        "from sklearn import utils\n",
        "import json\n",
        "import tensorflow as tf\n",
        "from keras.applications import InceptionResNetV2\n",
        "from keras.models import Sequential, load_model\n",
        "from keras.layers import Flatten, Dense, Dropout\n",
        "import pandas as pd"
      ]
    },
    {
      "cell_type": "code",
      "source": [
        "X_test = np.load('/content/drive/MyDrive/Colab Notebooks/X_test.npy')\n",
        "y_test = np.load('/content/drive/MyDrive/Colab Notebooks/y_test.npy')"
      ],
      "metadata": {
        "id": "uFLy_NsRQJlr"
      },
      "execution_count": 2,
      "outputs": []
    },
    {
      "cell_type": "code",
      "source": [
        "# Cargar modelos\n",
        "\n",
        "model1 = load_model('/content/drive/MyDrive/Colab Notebooks/model1.h5')\n",
        "model2 = load_model('/content/drive/MyDrive/Colab Notebooks/model2.h5')\n",
        "model3 = load_model('/content/drive/MyDrive/Colab Notebooks/model3.h5')\n",
        "model4 = load_model('/content/drive/MyDrive/Colab Notebooks/model4.h5')\n",
        "model5 = load_model('/content/drive/MyDrive/Colab Notebooks/model5.h5')\n",
        "\n",
        "# El Modelo6 necesita reconstruir su arquitectura para cargarse:\n",
        "base_model = InceptionResNetV2(\n",
        "    weights=None,  # No cargar pesos de ImageNet\n",
        "    include_top=False,\n",
        "    input_shape=(150, 150, 3)\n",
        ")\n",
        "\n",
        "base_model.trainable = False\n",
        "\n",
        "limite_train = len(base_model.layers) - 30\n",
        "for layer in base_model.layers[:limite_train]:\n",
        "    layer.trainable = False\n",
        "for layer in base_model.layers[limite_train:]: # Entrenamos las últimas 30 capas\n",
        "    layer.trainable = True\n",
        "\n",
        "model6 = Sequential([\n",
        "    base_model,\n",
        "    Flatten(),\n",
        "    Dense(256, activation='relu'),\n",
        "    Dropout(0.5),\n",
        "    Dense(6, activation='softmax')\n",
        "])\n",
        "\n",
        "# Lo que sí que cargamos son los pesos\n",
        "model6.load_weights('/content/drive/MyDrive/Colab Notebooks/model6.h5')\n"
      ],
      "metadata": {
        "id": "6SIQZ54cGcpO",
        "colab": {
          "base_uri": "https://localhost:8080/"
        },
        "outputId": "7a940980-8063-49a1-8269-ee5d79899809"
      },
      "execution_count": 3,
      "outputs": [
        {
          "output_type": "stream",
          "name": "stderr",
          "text": [
            "WARNING:absl:Compiled the loaded model, but the compiled metrics have yet to be built. `model.compile_metrics` will be empty until you train or evaluate the model.\n",
            "WARNING:absl:Compiled the loaded model, but the compiled metrics have yet to be built. `model.compile_metrics` will be empty until you train or evaluate the model.\n",
            "WARNING:absl:Compiled the loaded model, but the compiled metrics have yet to be built. `model.compile_metrics` will be empty until you train or evaluate the model.\n",
            "WARNING:absl:Compiled the loaded model, but the compiled metrics have yet to be built. `model.compile_metrics` will be empty until you train or evaluate the model.\n",
            "WARNING:absl:Compiled the loaded model, but the compiled metrics have yet to be built. `model.compile_metrics` will be empty until you train or evaluate the model.\n"
          ]
        }
      ]
    },
    {
      "cell_type": "code",
      "source": [
        "# Cargar para las gráficas accuracy\n",
        "with open('/content/drive/MyDrive/Colab Notebooks/hist_model1.json', 'r') as f:\n",
        "    hist_model1 = json.load(f)\n",
        "with open('/content/drive/MyDrive/Colab Notebooks/hist_model2.json', 'r') as f:\n",
        "    hist_model2 = json.load(f)\n",
        "with open('/content/drive/MyDrive/Colab Notebooks/hist_model3.json', 'r') as f:\n",
        "    hist_model3 = json.load(f)\n",
        "with open('/content/drive/MyDrive/Colab Notebooks/hist_model4.json', 'r') as f:\n",
        "    hist_model4 = json.load(f)\n",
        "with open('/content/drive/MyDrive/Colab Notebooks/hist_model5.json', 'r') as f:\n",
        "    hist_model5 = json.load(f)\n",
        "with open('/content/drive/MyDrive/Colab Notebooks/hist_model6.json', 'r') as f:\n",
        "    hist_model6 = json.load(f)"
      ],
      "metadata": {
        "id": "3m1peMzzMpYv"
      },
      "execution_count": 4,
      "outputs": []
    },
    {
      "cell_type": "code",
      "source": [
        "all_results = []  # Lista donde se almacenarán los resultados de evaluate"
      ],
      "metadata": {
        "id": "-Uca0YLPPHQT"
      },
      "execution_count": 5,
      "outputs": []
    },
    {
      "cell_type": "code",
      "source": [
        "# Evaluamos todos los modelos y almacenamos los resultados\n",
        "_, test_acc = model1.evaluate(X_test, y_test)\n",
        "all_results.append((\"base_model\", test_acc))"
      ],
      "metadata": {
        "colab": {
          "base_uri": "https://localhost:8080/"
        },
        "id": "F6-qWVnYPQsh",
        "outputId": "83fe3b74-5851-48c7-ab0e-80bfa319459a"
      },
      "execution_count": 6,
      "outputs": [
        {
          "output_type": "stream",
          "name": "stdout",
          "text": [
            "\u001b[1m47/47\u001b[0m \u001b[32m━━━━━━━━━━━━━━━━━━━━\u001b[0m\u001b[37m\u001b[0m \u001b[1m3s\u001b[0m 20ms/step - accuracy: 0.7096 - loss: 1.1540\n"
          ]
        }
      ]
    },
    {
      "cell_type": "code",
      "source": [
        "_, test_acc = model2.evaluate(X_test, y_test)\n",
        "all_results.append((\"advance_model\", test_acc))"
      ],
      "metadata": {
        "colab": {
          "base_uri": "https://localhost:8080/"
        },
        "id": "1TYJ31NnQnQV",
        "outputId": "462c1dee-ac4f-440c-a76d-8c312e480577"
      },
      "execution_count": 7,
      "outputs": [
        {
          "output_type": "stream",
          "name": "stdout",
          "text": [
            "\u001b[1m47/47\u001b[0m \u001b[32m━━━━━━━━━━━━━━━━━━━━\u001b[0m\u001b[37m\u001b[0m \u001b[1m2s\u001b[0m 22ms/step - accuracy: 0.7354 - loss: 1.2624\n"
          ]
        }
      ]
    },
    {
      "cell_type": "code",
      "source": [
        "_, test_acc = model3.evaluate(X_test, y_test)\n",
        "all_results.append((\"hp\", test_acc))"
      ],
      "metadata": {
        "colab": {
          "base_uri": "https://localhost:8080/"
        },
        "id": "9E7pzR62RGap",
        "outputId": "5815c812-6aad-4abf-b8b6-3fa9a0a3147a"
      },
      "execution_count": 8,
      "outputs": [
        {
          "output_type": "stream",
          "name": "stdout",
          "text": [
            "\u001b[1m47/47\u001b[0m \u001b[32m━━━━━━━━━━━━━━━━━━━━\u001b[0m\u001b[37m\u001b[0m \u001b[1m3s\u001b[0m 26ms/step - accuracy: 0.6868 - loss: 1.4690\n"
          ]
        }
      ]
    },
    {
      "cell_type": "code",
      "source": [
        "_, test_acc = model4.evaluate(X_test, y_test)\n",
        "all_results.append((\"fine_tuning\", test_acc))"
      ],
      "metadata": {
        "colab": {
          "base_uri": "https://localhost:8080/"
        },
        "id": "klwH-peARbbs",
        "outputId": "7332308c-5f6f-4944-d06b-66de2f463a08"
      },
      "execution_count": 9,
      "outputs": [
        {
          "output_type": "stream",
          "name": "stdout",
          "text": [
            "\u001b[1m47/47\u001b[0m \u001b[32m━━━━━━━━━━━━━━━━━━━━\u001b[0m\u001b[37m\u001b[0m \u001b[1m15s\u001b[0m 123ms/step - accuracy: 0.8793 - loss: 0.5909\n"
          ]
        }
      ]
    },
    {
      "cell_type": "code",
      "source": [
        "_, test_acc = model5.evaluate(X_test, y_test)\n",
        "all_results.append((\"data_aug\", test_acc))"
      ],
      "metadata": {
        "id": "J3xSIDi0RnOA",
        "colab": {
          "base_uri": "https://localhost:8080/"
        },
        "outputId": "42deba9a-3193-4c7d-e5a1-227df8e0636e"
      },
      "execution_count": 10,
      "outputs": [
        {
          "output_type": "stream",
          "name": "stdout",
          "text": [
            "\u001b[1m47/47\u001b[0m \u001b[32m━━━━━━━━━━━━━━━━━━━━\u001b[0m\u001b[37m\u001b[0m \u001b[1m11s\u001b[0m 109ms/step - accuracy: 0.1874 - loss: 6.9067\n"
          ]
        }
      ]
    },
    {
      "cell_type": "code",
      "source": [
        "model6.compile(optimizer=\"adam\",\n",
        "              loss='sparse_categorical_crossentropy',\n",
        "              metrics=['accuracy'])\n",
        "\n",
        "_, test_acc = model6.evaluate(X_test, y_test)\n",
        "all_results.append((\"extra\", test_acc))"
      ],
      "metadata": {
        "colab": {
          "base_uri": "https://localhost:8080/"
        },
        "id": "wi87VlTWRu2U",
        "outputId": "c5f50764-9fe4-4311-b703-d58c15c83612"
      },
      "execution_count": 11,
      "outputs": [
        {
          "output_type": "stream",
          "name": "stdout",
          "text": [
            "\u001b[1m47/47\u001b[0m \u001b[32m━━━━━━━━━━━━━━━━━━━━\u001b[0m\u001b[37m\u001b[0m \u001b[1m27s\u001b[0m 185ms/step - accuracy: 0.8994 - loss: 0.4623\n"
          ]
        }
      ]
    },
    {
      "cell_type": "code",
      "source": [
        "df = pd.DataFrame(all_results)\n",
        "df.columns = ['Model_Name', 'Test_Accuracy']\n",
        "df = df.style.background_gradient(cmap=\"coolwarm\")\n",
        "df"
      ],
      "metadata": {
        "colab": {
          "base_uri": "https://localhost:8080/",
          "height": 237
        },
        "id": "YDImTGr_SeIh",
        "outputId": "2e53c547-1b48-437e-ccf5-8c8bca055b4d"
      },
      "execution_count": 12,
      "outputs": [
        {
          "output_type": "execute_result",
          "data": {
            "text/plain": [
              "<pandas.io.formats.style.Styler at 0x7d9c39791bd0>"
            ],
            "text/html": [
              "<style type=\"text/css\">\n",
              "#T_fdf82_row0_col1 {\n",
              "  background-color: #f59c7d;\n",
              "  color: #000000;\n",
              "}\n",
              "#T_fdf82_row1_col1 {\n",
              "  background-color: #f39778;\n",
              "  color: #000000;\n",
              "}\n",
              "#T_fdf82_row2_col1 {\n",
              "  background-color: #f7a688;\n",
              "  color: #000000;\n",
              "}\n",
              "#T_fdf82_row3_col1 {\n",
              "  background-color: #bd1f2d;\n",
              "  color: #f1f1f1;\n",
              "}\n",
              "#T_fdf82_row4_col1 {\n",
              "  background-color: #3b4cc0;\n",
              "  color: #f1f1f1;\n",
              "}\n",
              "#T_fdf82_row5_col1 {\n",
              "  background-color: #b40426;\n",
              "  color: #f1f1f1;\n",
              "}\n",
              "</style>\n",
              "<table id=\"T_fdf82\" class=\"dataframe\">\n",
              "  <thead>\n",
              "    <tr>\n",
              "      <th class=\"blank level0\" >&nbsp;</th>\n",
              "      <th id=\"T_fdf82_level0_col0\" class=\"col_heading level0 col0\" >Model_Name</th>\n",
              "      <th id=\"T_fdf82_level0_col1\" class=\"col_heading level0 col1\" >Test_Accuracy</th>\n",
              "    </tr>\n",
              "  </thead>\n",
              "  <tbody>\n",
              "    <tr>\n",
              "      <th id=\"T_fdf82_level0_row0\" class=\"row_heading level0 row0\" >0</th>\n",
              "      <td id=\"T_fdf82_row0_col0\" class=\"data row0 col0\" >base_model</td>\n",
              "      <td id=\"T_fdf82_row0_col1\" class=\"data row0 col1\" >0.718539</td>\n",
              "    </tr>\n",
              "    <tr>\n",
              "      <th id=\"T_fdf82_level0_row1\" class=\"row_heading level0 row1\" >1</th>\n",
              "      <td id=\"T_fdf82_row1_col0\" class=\"data row1 col0\" >advance_model</td>\n",
              "      <td id=\"T_fdf82_row1_col1\" class=\"data row1 col1\" >0.726658</td>\n",
              "    </tr>\n",
              "    <tr>\n",
              "      <th id=\"T_fdf82_level0_row2\" class=\"row_heading level0 row2\" >2</th>\n",
              "      <td id=\"T_fdf82_row2_col0\" class=\"data row2 col0\" >hp</td>\n",
              "      <td id=\"T_fdf82_row2_col1\" class=\"data row2 col1\" >0.698917</td>\n",
              "    </tr>\n",
              "    <tr>\n",
              "      <th id=\"T_fdf82_level0_row3\" class=\"row_heading level0 row3\" >3</th>\n",
              "      <td id=\"T_fdf82_row3_col0\" class=\"data row3 col0\" >fine_tuning</td>\n",
              "      <td id=\"T_fdf82_row3_col1\" class=\"data row3 col1\" >0.882273</td>\n",
              "    </tr>\n",
              "    <tr>\n",
              "      <th id=\"T_fdf82_level0_row4\" class=\"row_heading level0 row4\" >4</th>\n",
              "      <td id=\"T_fdf82_row4_col0\" class=\"data row4 col0\" >data_aug</td>\n",
              "      <td id=\"T_fdf82_row4_col1\" class=\"data row4 col1\" >0.189445</td>\n",
              "    </tr>\n",
              "    <tr>\n",
              "      <th id=\"T_fdf82_level0_row5\" class=\"row_heading level0 row5\" >5</th>\n",
              "      <td id=\"T_fdf82_row5_col0\" class=\"data row5 col0\" >extra</td>\n",
              "      <td id=\"T_fdf82_row5_col1\" class=\"data row5 col1\" >0.899865</td>\n",
              "    </tr>\n",
              "  </tbody>\n",
              "</table>\n"
            ]
          },
          "metadata": {},
          "execution_count": 12
        }
      ]
    },
    {
      "cell_type": "code",
      "source": [
        "# Como se puede observar, el modelo5 (data augmentation), al usar datos modificados para\n",
        "# el entrenamiento, es el que ofrece peores resultados.\n",
        "# El mejor es el modelo6 (transfer learning con fine tuning), que ofrece cierta mejora\n",
        "# sobre el modelo4 (también transfer learning, pero con otro modelo preentrenado de keras)."
      ],
      "metadata": {
        "id": "zqcNBg04C1ep"
      },
      "execution_count": null,
      "outputs": []
    },
    {
      "cell_type": "code",
      "source": [
        "# Gráfica con el validation accuracy de los modelos\n",
        "\n",
        "plt.figure(figsize=(12, 6))\n",
        "plt.plot(hist_model1['val_accuracy'], label='Modelo Base')\n",
        "plt.plot(hist_model2['val_accuracy'], label='Modelo Avanzado')\n",
        "plt.plot(hist_model3['val_accuracy'], label='Hyperparameter Tuning')\n",
        "plt.plot(hist_model4['val_accuracy'], label='Transfer Learning - Fine Tuning')\n",
        "plt.plot(hist_model5['val_accuracy'], label='Data Augmentation')\n",
        "plt.plot(hist_model6['val_accuracy'], label='Extra')\n",
        "plt.title('Comparativa de Accuracy en Validación')\n",
        "plt.xlabel('Epochs')\n",
        "plt.ylabel('Accuracy')\n",
        "plt.legend()\n",
        "plt.show()"
      ],
      "metadata": {
        "colab": {
          "base_uri": "https://localhost:8080/",
          "height": 399
        },
        "id": "8gDRS3P0OTuZ",
        "outputId": "2a614188-0289-4e7b-d878-35d792203b95"
      },
      "execution_count": 13,
      "outputs": [
        {
          "output_type": "display_data",
          "data": {
            "text/plain": [
              "<Figure size 1200x600 with 1 Axes>"
            ],
            "image/png": "[encoded data removed]"
          },
          "metadata": {}
        }
      ]
    },
    {
      "cell_type": "code",
      "source": [
        "# La distinta longitud de las líneas en la gráfica se debe al uso de earlystopping.\n",
        "# Algunos entrenamientos se cortaron antes porque el val_accuracy no mejoraba."
      ],
      "metadata": {
        "id": "-561Zq73ByZu"
      },
      "execution_count": null,
      "outputs": []
    }
  ]
}